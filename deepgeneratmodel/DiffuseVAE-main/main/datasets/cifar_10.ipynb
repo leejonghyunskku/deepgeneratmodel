{
 "cells": [
  {
   "cell_type": "code",
   "execution_count": 3,
   "id": "c023ac4d-7e3f-4897-81cc-c00ad494e9e5",
   "metadata": {},
   "outputs": [
    {
     "name": "stdout",
     "output_type": "stream",
     "text": [
      "Files already downloaded and verified\n",
      "torch.Size([3, 32, 32])\n"
     ]
    }
   ],
   "source": [
    "import os\n",
    "\n",
    "import numpy as np\n",
    "import torch\n",
    "from torch.utils.data import Dataset\n",
    "from torchvision.datasets import CIFAR10\n",
    "\n",
    "\n",
    "class CIFAR10Dataset(Dataset):\n",
    "    def __init__(self, root, norm=True, transform=None, subsample_size=None, **kwargs):\n",
    "        if not os.path.isdir(root):\n",
    "            raise ValueError(f\"The specified root: {root} does not exist\")\n",
    "\n",
    "        if subsample_size is not None:\n",
    "            assert isinstance(subsample_size, int)\n",
    "\n",
    "        self.root = root\n",
    "        self.norm = norm\n",
    "        self.transform = transform\n",
    "        self.dataset = CIFAR10(\n",
    "            self.root, train=True, download=True, transform=transform, **kwargs\n",
    "        )\n",
    "        self.subsample_size = subsample_size\n",
    "\n",
    "    def __getitem__(self, idx):\n",
    "        img, _ = self.dataset[idx]\n",
    "        if self.norm:\n",
    "            img = (np.asarray(img).astype(float) / 127.5) - 1.0\n",
    "        else:\n",
    "            img = np.asarray(img).astype(float) / 255.0\n",
    "        return torch.tensor(img).permute(2, 0, 1).float()\n",
    "\n",
    "    def __len__(self):\n",
    "        return len(self.dataset) if self.subsample_size is None else self.subsample_size\n",
    "\n",
    "\n",
    "if __name__ == \"__main__\":\n",
    "    root = \"C:/Users/sigol/Desktop/skku/2학기 수업/심층생성모델/프로젝트\" #\"/data/kushagrap20/datasets/\"\n",
    "    dataset = CIFAR10Dataset(root)\n",
    "    print(dataset[0].shape)\n"
   ]
  },
  {
   "cell_type": "code",
   "execution_count": null,
   "id": "c29de755-9b9f-4181-a63d-7f91f8c12441",
   "metadata": {},
   "outputs": [],
   "source": [
    "!pip install torchvision"
   ]
  },
  {
   "cell_type": "code",
   "execution_count": null,
   "id": "56517758-8447-441d-9f17-5b9d7a2db4da",
   "metadata": {},
   "outputs": [],
   "source": []
  }
 ],
 "metadata": {
  "kernelspec": {
   "display_name": "Python 3 (ipykernel)",
   "language": "python",
   "name": "python3"
  },
  "language_info": {
   "codemirror_mode": {
    "name": "ipython",
    "version": 3
   },
   "file_extension": ".py",
   "mimetype": "text/x-python",
   "name": "python",
   "nbconvert_exporter": "python",
   "pygments_lexer": "ipython3",
   "version": "3.10.13"
  }
 },
 "nbformat": 4,
 "nbformat_minor": 5
}
