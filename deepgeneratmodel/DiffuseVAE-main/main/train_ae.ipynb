{
 "cells": [
  {
   "cell_type": "code",
   "execution_count": 1,
   "id": "0da70ce8-81c7-4740-b3a1-be152b843026",
   "metadata": {},
   "outputs": [
    {
     "name": "stderr",
     "output_type": "stream",
     "text": [
      "usage: ipykernel_launcher.py [--help] [--hydra-help] [--version] [--cfg {job,hydra,all}] [--resolve]\n",
      "                             [--package PACKAGE] [--run] [--multirun] [--shell-completion] [--config-path CONFIG_PATH]\n",
      "                             [--config-name CONFIG_NAME] [--config-dir CONFIG_DIR]\n",
      "                             [--info [{all,config,defaults,defaults-tree,plugins,searchpath}]]\n",
      "                             [overrides ...]\n",
      "ipykernel_launcher.py: error: unrecognized arguments: -f\n"
     ]
    },
    {
     "ename": "SystemExit",
     "evalue": "2",
     "output_type": "error",
     "traceback": [
      "An exception has occurred, use %tb to see the full traceback.\n",
      "\u001b[1;31mSystemExit\u001b[0m\u001b[1;31m:\u001b[0m 2\n"
     ]
    },
    {
     "name": "stderr",
     "output_type": "stream",
     "text": [
      "C:\\Users\\sigol\\anaconda3\\lib\\site-packages\\IPython\\core\\interactiveshell.py:3561: UserWarning: To exit: use 'exit', 'quit', or Ctrl-D.\n",
      "  warn(\"To exit: use 'exit', 'quit', or Ctrl-D.\", stacklevel=1)\n"
     ]
    }
   ],
   "source": [
    "import logging\n",
    "import os\n",
    "\n",
    "import hydra\n",
    "import pytorch_lightning as pl\n",
    "import torchvision.transforms as T\n",
    "from omegaconf import OmegaConf\n",
    "from pytorch_lightning.callbacks import ModelCheckpoint\n",
    "from pytorch_lightning import seed_everything\n",
    "from torch.utils.data import DataLoader\n",
    "\n",
    "# from models.vae import VAE\n",
    "from models.vae import VAE\n",
    "from util import configure_device, get_dataset\n",
    "\n",
    "logger = logging.getLogger(__name__)\n",
    "\n",
    "\n",
    "@hydra.main(config_path=\"configs\")\n",
    "def train(config):\n",
    "    # Get config and setup\n",
    "    config = config.dataset.vae\n",
    "    logger.info(OmegaConf.to_yaml(config))\n",
    "\n",
    "    # Set seed\n",
    "    seed_everything(config.training.seed, workers=True)\n",
    "\n",
    "    # Dataset\n",
    "    root = config.data.root\n",
    "    d_type = config.data.name\n",
    "    image_size = config.data.image_size\n",
    "    dataset = get_dataset(d_type, root, image_size, norm=False, flip=config.data.hflip)\n",
    "    N = len(dataset)\n",
    "    batch_size = config.training.batch_size\n",
    "    batch_size = min(N, batch_size)\n",
    "\n",
    "    # Model\n",
    "    vae = VAE(\n",
    "        input_res=image_size,\n",
    "        enc_block_str=config.model.enc_block_config,\n",
    "        dec_block_str=config.model.dec_block_config,\n",
    "        enc_channel_str=config.model.enc_channel_config,\n",
    "        dec_channel_str=config.model.dec_channel_config,\n",
    "        lr=config.training.lr,\n",
    "        alpha=config.training.alpha,\n",
    "    )\n",
    "\n",
    "    # Trainer\n",
    "    train_kwargs = {}\n",
    "    restore_path = config.training.restore_path\n",
    "    if restore_path is not None:\n",
    "        # Restore checkpoint\n",
    "        train_kwargs[\"resume_from_checkpoint\"] = restore_path\n",
    "\n",
    "    results_dir = config.training.results_dir\n",
    "    chkpt_callback = ModelCheckpoint(\n",
    "        dirpath=os.path.join(results_dir, \"checkpoints\"),\n",
    "        filename=f\"vae-{config.training.chkpt_prefix}\"\n",
    "        + \"-{epoch:02d}-{train_loss:.4f}\",\n",
    "        every_n_epochs=config.training.chkpt_interval,\n",
    "        save_on_train_epoch_end=True,\n",
    "    )\n",
    "\n",
    "    train_kwargs[\"default_root_dir\"] = results_dir\n",
    "    train_kwargs[\"max_epochs\"] = config.training.epochs\n",
    "    train_kwargs[\"log_every_n_steps\"] = config.training.log_step\n",
    "    train_kwargs[\"callbacks\"] = [chkpt_callback]\n",
    "\n",
    "    device = config.training.device\n",
    "    loader_kws = {}\n",
    "    if device.startswith(\"gpu\"):\n",
    "        _, devs = configure_device(device)\n",
    "        train_kwargs[\"gpus\"] = devs\n",
    "\n",
    "        # Disable find_unused_parameters when using DDP training for performance reasons\n",
    "        from pytorch_lightning.plugins import DDPPlugin\n",
    "\n",
    "        train_kwargs[\"plugins\"] = DDPPlugin(find_unused_parameters=False)\n",
    "        loader_kws[\"persistent_workers\"] = True\n",
    "    elif device == \"tpu\":\n",
    "        train_kwargs[\"tpu_cores\"] = 8\n",
    "\n",
    "    # Half precision training\n",
    "    if config.training.fp16:\n",
    "        train_kwargs[\"precision\"] = 16\n",
    "\n",
    "    # Loader\n",
    "    loader = DataLoader(\n",
    "        dataset,\n",
    "        batch_size,\n",
    "        num_workers=config.training.workers,\n",
    "        pin_memory=True,\n",
    "        shuffle=True,\n",
    "        drop_last=True,\n",
    "        **loader_kws,\n",
    "    )\n",
    "\n",
    "    logger.info(f\"Running Trainer with kwargs: {train_kwargs}\")\n",
    "    trainer = pl.Trainer(**train_kwargs)\n",
    "    trainer.fit(vae, train_dataloader=loader)\n",
    "\n",
    "\n",
    "if __name__ == \"__main__\":\n",
    "    train()\n"
   ]
  },
  {
   "cell_type": "code",
   "execution_count": null,
   "id": "55607a14-c463-47b6-80b1-eb5448e26b34",
   "metadata": {},
   "outputs": [],
   "source": [
    "!pip show hydra-core"
   ]
  },
  {
   "cell_type": "code",
   "execution_count": null,
   "id": "48902f5d-e100-4839-a954-12cdd133ee83",
   "metadata": {},
   "outputs": [],
   "source": []
  }
 ],
 "metadata": {
  "kernelspec": {
   "display_name": "Python 3 (ipykernel)",
   "language": "python",
   "name": "python3"
  },
  "language_info": {
   "codemirror_mode": {
    "name": "ipython",
    "version": 3
   },
   "file_extension": ".py",
   "mimetype": "text/x-python",
   "name": "python",
   "nbconvert_exporter": "python",
   "pygments_lexer": "ipython3",
   "version": "3.10.13"
  }
 },
 "nbformat": 4,
 "nbformat_minor": 5
}
